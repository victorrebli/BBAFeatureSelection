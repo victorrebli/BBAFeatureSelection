{
 "cells": [
  {
   "cell_type": "code",
   "execution_count": 1,
   "metadata": {},
   "outputs": [],
   "source": [
    "from importlib import reload\n",
    "from scipy.io import arff\n",
    "import copy\n",
    "import principal\n",
    "from principal import BBASelector\n",
    "import lightgbm as lgb\n",
    "import numpy as np\n",
    "import collections\n",
    "import pandas as pd\n",
    "import sys\n",
    "from sklearn.model_selection import train_test_split"
   ]
  },
  {
   "cell_type": "code",
   "execution_count": 2,
   "metadata": {},
   "outputs": [],
   "source": [
    "data = pd.read_csv('data/creditcard.csv')"
   ]
  },
  {
   "cell_type": "code",
   "execution_count": 3,
   "metadata": {},
   "outputs": [],
   "source": [
    "label = data.Class\n",
    "data = data.drop(['Time', 'Class'], axis=1)"
   ]
  },
  {
   "cell_type": "code",
   "execution_count": 4,
   "metadata": {},
   "outputs": [],
   "source": [
    "X_train, X_test, y_train, y_test = train_test_split(data,label, test_size=0.33, random_state=42) "
   ]
  },
  {
   "cell_type": "code",
   "execution_count": 5,
   "metadata": {},
   "outputs": [],
   "source": [
    "lgb_params = {\n",
    "             'n_jobs': 5, 'two_round': True, 'is_unbalance': True,\n",
    "             'boosting_type': 'gbdt', 'learning_rate': 0.01, 'min_child_samples': 10,\n",
    "             'min_child_weight': 5, 'n_estimators':1000, 'num_leaves':21,\n",
    "             'max_depth': 6\n",
    "}"
   ]
  },
  {
   "cell_type": "code",
   "execution_count": 6,
   "metadata": {},
   "outputs": [],
   "source": [
    "estimator = lgb.LGBMClassifier(**lgb_params, random_state = 10)"
   ]
  },
  {
   "cell_type": "code",
   "execution_count": 7,
   "metadata": {},
   "outputs": [],
   "source": [
    "extras = {'eval_metric': 'auc',\n",
    "          'early_stopping_rounds': 100,\n",
    "         'verbose': False}"
   ]
  },
  {
   "cell_type": "code",
   "execution_count": 8,
   "metadata": {},
   "outputs": [],
   "source": [
    "model = BBASelector(estimator, theta = 1.0, gamma = 1.0, epsilon = 1.0, \n",
    "                    num_particles=15, max_iter=10, max_local_improvement=50,\n",
    "                    maximize_objective=True, initialization='uniform',cv = 3)"
   ]
  },
  {
   "cell_type": "code",
   "execution_count": 9,
   "metadata": {},
   "outputs": [
    {
     "name": "stderr",
     "output_type": "stream",
     "text": [
      "[05/26 03:22:03] Score with all features - 0.934\n",
      "[05/26 03:22:44] Iteration: 1/10 \n",
      " , Best global metric: [0.956] \n",
      " , Index features_selected: [ 1  3  6  8 16 19] \n",
      " , Number of selected features: 6 \n",
      " , Columns selected: ['V2', 'V4', 'V7', 'V9', 'V17', 'V20']\n",
      "[05/26 03:23:21] Iteration: 2/10 \n",
      " , Best global metric: [0.956] \n",
      " , Index features_selected: [ 1  3  6  8 16 19] \n",
      " , Number of selected features: 6 \n",
      " , Columns selected: ['V2', 'V4', 'V7', 'V9', 'V17', 'V20']\n",
      "[05/26 03:23:58] Iteration: 3/10 \n",
      " , Best global metric: [0.956] \n",
      " , Index features_selected: [ 1  3  6  8 16 19] \n",
      " , Number of selected features: 6 \n",
      " , Columns selected: ['V2', 'V4', 'V7', 'V9', 'V17', 'V20']\n",
      "[05/26 03:24:37] Iteration: 4/10 \n",
      " , Best global metric: [0.956] \n",
      " , Index features_selected: [ 1  3  6  8 16 19] \n",
      " , Number of selected features: 6 \n",
      " , Columns selected: ['V2', 'V4', 'V7', 'V9', 'V17', 'V20']\n",
      "[05/26 03:25:21] Iteration: 5/10 \n",
      " , Best global metric: [0.956] \n",
      " , Index features_selected: [ 1  3  6  8 16 19] \n",
      " , Number of selected features: 6 \n",
      " , Columns selected: ['V2', 'V4', 'V7', 'V9', 'V17', 'V20']\n",
      "[05/26 03:26:04] Iteration: 6/10 \n",
      " , Best global metric: [0.956] \n",
      " , Index features_selected: [ 1  3  6  8 16 19] \n",
      " , Number of selected features: 6 \n",
      " , Columns selected: ['V2', 'V4', 'V7', 'V9', 'V17', 'V20']\n",
      "[05/26 03:26:47] Iteration: 7/10 \n",
      " , Best global metric: [0.956] \n",
      " , Index features_selected: [ 1  3  6  8 16 19] \n",
      " , Number of selected features: 6 \n",
      " , Columns selected: ['V2', 'V4', 'V7', 'V9', 'V17', 'V20']\n",
      "[05/26 03:27:46] Iteration: 8/10 \n",
      " , Best global metric: [0.956] \n",
      " , Index features_selected: [ 1  3  6  8 16 19] \n",
      " , Number of selected features: 6 \n",
      " , Columns selected: ['V2', 'V4', 'V7', 'V9', 'V17', 'V20']\n",
      "[05/26 03:28:40] Iteration: 9/10 \n",
      " , Best global metric: [0.956] \n",
      " , Index features_selected: [ 1  3  6  8 16 19] \n",
      " , Number of selected features: 6 \n",
      " , Columns selected: ['V2', 'V4', 'V7', 'V9', 'V17', 'V20']\n",
      "[05/26 03:29:26] Iteration: 10/10 \n",
      " , Best global metric: [0.956] \n",
      " , Index features_selected: [ 1  3  6  8 16 19] \n",
      " , Number of selected features: 6 \n",
      " , Columns selected: ['V2', 'V4', 'V7', 'V9', 'V17', 'V20']\n",
      "[05/26 03:29:26] Final Index features selected: [ 1  3  6  8 16 19] /n, Final Columns selected: ['V2', 'V4', 'V7', 'V9', 'V17', 'V20'] \n",
      "\n"
     ]
    }
   ],
   "source": [
    "model.fit(X_train,y_train,**extras)"
   ]
  }
 ],
 "metadata": {
  "kernelspec": {
   "display_name": "Python 3",
   "language": "python",
   "name": "python3"
  },
  "language_info": {
   "codemirror_mode": {
    "name": "ipython",
    "version": 3
   },
   "file_extension": ".py",
   "mimetype": "text/x-python",
   "name": "python",
   "nbconvert_exporter": "python",
   "pygments_lexer": "ipython3",
   "version": "3.7.1"
  }
 },
 "nbformat": 4,
 "nbformat_minor": 2
}
